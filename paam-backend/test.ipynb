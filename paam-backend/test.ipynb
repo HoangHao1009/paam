{
 "cells": [
  {
   "cell_type": "code",
   "execution_count": 2,
   "metadata": {},
   "outputs": [],
   "source": [
    "from dotenv import load_dotenv, find_dotenv\n",
    "\n",
    "_ = load_dotenv(find_dotenv())\n"
   ]
  },
  {
   "cell_type": "code",
   "execution_count": 1,
   "metadata": {},
   "outputs": [
    {
     "name": "stderr",
     "output_type": "stream",
     "text": [
      "USER_AGENT environment variable not set, consider setting it to identify your requests.\n"
     ]
    }
   ],
   "source": [
    "from app.engine import Survey, QuestionPro\n",
    "from app.engine.ai import PAAMSupervisor\n",
    "from langchain_core.messages import HumanMessage\n"
   ]
  },
  {
   "cell_type": "code",
   "execution_count": 3,
   "metadata": {},
   "outputs": [],
   "source": [
    "questionpro = QuestionPro(\n",
    "    survey_id='12032803', \n",
    "    api_key='61d15ae9-8995-4f6b-88ac-3a66e752a3cc'\n",
    ")\n",
    "await questionpro.fetch_data()\n",
    "data = questionpro.data\n",
    "survey = Survey(data=data)\n",
    "survey.initialize()\n"
   ]
  },
  {
   "cell_type": "code",
   "execution_count": 4,
   "metadata": {},
   "outputs": [],
   "source": [
    "from langchain_openai import ChatOpenAI\n",
    "llm = ChatOpenAI(model='gpt-3.5-turbo', streaming=True)\n",
    "graph = PAAMSupervisor(llm, survey).initialize()\n"
   ]
  },
  {
   "cell_type": "code",
   "execution_count": 35,
   "metadata": {},
   "outputs": [],
   "source": [
    "message = \"Hello\"\n",
    "\n",
    "inputs = {\"messages\": [HumanMessage(content=message)]}\n",
    "\n",
    "msgs = []\n",
    "\n",
    "async for msg in graph.astream(inputs, stream_mode=\"values\"):\n",
    "    msgs.append(msg)"
   ]
  },
  {
   "cell_type": "code",
   "execution_count": 36,
   "metadata": {},
   "outputs": [
    {
     "name": "stdout",
     "output_type": "stream",
     "text": [
      "{'messages': [HumanMessage(content='Hello', additional_kwargs={}, response_metadata={}, id='ec017120-fb96-4ffe-baf2-e2692541ae74')]}\n",
      "{'messages': [HumanMessage(content='Hello', additional_kwargs={}, response_metadata={}, id='ec017120-fb96-4ffe-baf2-e2692541ae74')], 'next': 'FINISH'}\n"
     ]
    }
   ],
   "source": [
    "for m in msgs:\n",
    "    print(m)"
   ]
  },
  {
   "cell_type": "code",
   "execution_count": 34,
   "metadata": {},
   "outputs": [
    {
     "name": "stdout",
     "output_type": "stream",
     "text": [
      "Hello. How are you\n",
      "Hello. How are you\n",
      "Hello. How are you\n",
      "Hello! I'm just a computer program, so I don't have feelings, but I'm here to help you with any questions you may have. How can I assist you today?\n"
     ]
    }
   ],
   "source": [
    "for m in msgs:\n",
    "    for msg in m[\"messages\"]:\n",
    "        print(msg.content)"
   ]
  },
  {
   "cell_type": "code",
   "execution_count": null,
   "metadata": {},
   "outputs": [],
   "source": []
  }
 ],
 "metadata": {
  "kernelspec": {
   "display_name": "venv",
   "language": "python",
   "name": "python3"
  },
  "language_info": {
   "codemirror_mode": {
    "name": "ipython",
    "version": 3
   },
   "file_extension": ".py",
   "mimetype": "text/x-python",
   "name": "python",
   "nbconvert_exporter": "python",
   "pygments_lexer": "ipython3",
   "version": "3.13.1"
  }
 },
 "nbformat": 4,
 "nbformat_minor": 2
}
