{
 "cells": [
  {
   "cell_type": "code",
   "execution_count": 52,
   "metadata": {},
   "outputs": [],
   "source": [
    "from dotenv import load_dotenv, find_dotenv\n",
    "\n",
    "_ = load_dotenv(find_dotenv())\n"
   ]
  },
  {
   "cell_type": "code",
   "execution_count": 44,
   "metadata": {},
   "outputs": [],
   "source": [
    "from app.engine import Survey, QuestionPro"
   ]
  },
  {
   "cell_type": "code",
   "execution_count": 45,
   "metadata": {},
   "outputs": [],
   "source": [
    "questionpro = QuestionPro(\n",
    "    survey_id='12032803', \n",
    "    api_key='61d15ae9-8995-4f6b-88ac-3a66e752a3cc'\n",
    ")\n",
    "await questionpro.fetch_data()\n",
    "data = questionpro.data\n",
    "survey = Survey(data=data)\n",
    "survey.initialize()\n"
   ]
  },
  {
   "cell_type": "code",
   "execution_count": 67,
   "metadata": {},
   "outputs": [],
   "source": [
    "from langchain_openai import ChatOpenAI\n",
    "from langgraph.graph import StateGraph, START, END, MessagesState\n",
    "from langgraph.graph.message import add_messages\n",
    "from langgraph.types import Command\n",
    "from langchain_core.messages import HumanMessage, BaseMessage, SystemMessage\n",
    "from langchain_core.tools import tool\n",
    "from langchain_community.tools.tavily_search import TavilySearchResults\n",
    "from langgraph.prebuilt import create_react_agent\n",
    "\n",
    "\n",
    "from typing_extensions import TypedDict, Literal, Annotated, Sequence\n"
   ]
  },
  {
   "cell_type": "code",
   "execution_count": 69,
   "metadata": {},
   "outputs": [],
   "source": [
    "llm = ChatOpenAI(model='gpt-3.5-turbo', streaming=True)\n",
    "\n",
    "search_tool = TavilySearchResults(max_results=1)\n",
    "\n",
    "@tool\n",
    "def crosstab(base: str, target: str):\n",
    "    \"\"\"Use to see relationship between two varibles by looking for crosstable of them.\"\"\"\n",
    "    ctab = survey.crosstab(base=base, target=target)\n",
    "    return ctab.df.to_string()\n",
    "\n",
    "@tool\n",
    "def get_question_info(question_code):\n",
    "    \"\"\"Use to get question info by question code\"\"\"\n",
    "    question = survey[question_code]\n",
    "    answers = \"\"\n",
    "    for answer in question.answers:\n",
    "        answers += f\"        --> {answer.scale} - {answer.text} - num_respondent: {len(answer.respondents)}\\n\"\n",
    "    describe = f\"\"\"\n",
    "Question(code={question.code}, text={question.text}, type={question.type}, num_answers={len(question.answers)}, num_respondent={len(question.respondents)})\n",
    "-> answers:\n",
    "{answers}\n",
    "\"\"\"\n",
    "    return describe"
   ]
  },
  {
   "cell_type": "code",
   "execution_count": 95,
   "metadata": {},
   "outputs": [],
   "source": [
    "members = ['crosstaber', 'question_getter']\n",
    "options = members + ['FINISH']\n",
    "\n",
    "system_prompt = (\n",
    "    \"You are a supervisor tasked with managing a conversation between the\"\n",
    "    f\" following workers: {members}. Given the following user request,\"\n",
    "    \" respond with the worker to act next. Each worker will perform a\"\n",
    "    \" task and respond with their results and status. When finished,\"\n",
    "    \" respond with FINISH.\"\n",
    ")"
   ]
  },
  {
   "cell_type": "code",
   "execution_count": 97,
   "metadata": {},
   "outputs": [],
   "source": [
    "class Router(TypedDict):\n",
    "    \"\"\"Worker to route to next. If no workers needed, route to FINISH.\"\"\"\n",
    "    next: Literal['crosstaber', 'question_getter', 'FINISH']\n",
    "def supervisor_node(state=MessagesState) -> Command[Literal['crosstaber', 'question_getter', '__end__']]:\n",
    "    messages = [\n",
    "        SystemMessage(content=system_prompt)\n",
    "    ] + state['messages']\n",
    "    response = llm.with_structured_output(Router).invoke(messages)\n",
    "    goto = END if response['next'] == 'FINISH' else response['next']\n",
    "    return Command(goto=goto)"
   ]
  },
  {
   "cell_type": "code",
   "execution_count": 96,
   "metadata": {},
   "outputs": [],
   "source": [
    "ctab_agent = create_react_agent(llm, tools=[crosstab], state_modifier=\"You are an analyzer who professional in crosstab data based on two question code provided.\")\n",
    "\n",
    "def ctab_node"
   ]
  },
  {
   "cell_type": "code",
   "execution_count": null,
   "metadata": {},
   "outputs": [],
   "source": []
  }
 ],
 "metadata": {
  "kernelspec": {
   "display_name": "Python 3",
   "language": "python",
   "name": "python3"
  },
  "language_info": {
   "codemirror_mode": {
    "name": "ipython",
    "version": 3
   },
   "file_extension": ".py",
   "mimetype": "text/x-python",
   "name": "python",
   "nbconvert_exporter": "python",
   "pygments_lexer": "ipython3",
   "version": "3.13.1"
  }
 },
 "nbformat": 4,
 "nbformat_minor": 2
}
